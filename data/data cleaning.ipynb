{
 "cells": [
  {
   "cell_type": "code",
   "execution_count": 9,
   "metadata": {},
   "outputs": [],
   "source": [
    "import pandas as pd\n",
    "\n",
    "# Load the CSV file into a DataFrame\n",
    "df = pd.read_csv('C:\\\\Users\\\\Saint\\\\Downloads\\\\ml-32m\\\\ml-32m\\\\tags.csv')\n",
    "\n",
    "# Drop duplicates based on the combination of userId, movieId, and timestamp\n",
    "df = df.drop_duplicates(subset=['userId', 'movieId', 'timestamp'])\n",
    "\n",
    "# Drop rows with any null values\n",
    "df = df.dropna()\n",
    "\n",
    "# Save the cleaned DataFrame back to a new CSV file\n",
    "df.to_csv('C:\\\\Users\\\\Saint\\\\Downloads\\\\ml-32m\\\\ml-32m\\\\tags_cleaned.csv', index=False)\n"
   ]
  },
  {
   "cell_type": "code",
   "execution_count": 3,
   "metadata": {},
   "outputs": [
    {
     "name": "stdout",
     "output_type": "stream",
     "text": [
      "Filtered data saved as 'filtered_ratings.csv'.\n"
     ]
    }
   ],
   "source": [
    "import pandas as pd\n",
    "\n",
    "# Load dataset\n",
    "ratings = pd.read_csv(\"ratings.csv\")\n",
    "\n",
    "# Convert timestamp to datetime\n",
    "ratings[\"timestamp\"] = pd.to_datetime(ratings[\"timestamp\"], unit=\"s\")\n",
    "\n",
    "# Filter for the last 10 years\n",
    "ten_years_ago = pd.Timestamp.now() - pd.DateOffset(years=10)\n",
    "filtered_ratings = ratings[ratings[\"timestamp\"] >= ten_years_ago]\n",
    "\n",
    "# Save to CSV\n",
    "filtered_ratings.to_csv(\"filtered_ratings.csv\", index=False)\n",
    "\n",
    "print(\"Filtered data saved as 'filtered_ratings.csv'.\")"
   ]
  }
 ],
 "metadata": {
  "kernelspec": {
   "display_name": "base",
   "language": "python",
   "name": "python3"
  },
  "language_info": {
   "codemirror_mode": {
    "name": "ipython",
    "version": 3
   },
   "file_extension": ".py",
   "mimetype": "text/x-python",
   "name": "python",
   "nbconvert_exporter": "python",
   "pygments_lexer": "ipython3",
   "version": "3.12.4"
  }
 },
 "nbformat": 4,
 "nbformat_minor": 2
}
